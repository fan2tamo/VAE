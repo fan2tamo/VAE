{
 "cells": [
  {
   "cell_type": "code",
   "execution_count": 1,
   "metadata": {},
   "outputs": [],
   "source": [
    "import tensorflow as tf\n",
    "from tensorflow.keras.layers import Dense, InputLayer, Conv2D, Flatten, Reshape, Conv2DTranspose, Convolution3D, MaxPooling3D, UpSampling3D, Conv3DTranspose\n",
    "from tensorflow.keras import Model, layers\n",
    "import matplotlib.pyplot as plt\n",
    "import numpy as np\n",
    "from sklearn.model_selection import train_test_split\n",
    "from tqdm import tqdm_notebook as tqdm\n",
    "from sklearn.cluster import KMeans\n",
    "from sklearn.decomposition import PCA\n",
    "from mpl_toolkits.mplot3d import Axes3D\n",
    "%matplotlib inline"
   ]
  },
  {
   "cell_type": "code",
   "execution_count": 26,
   "metadata": {},
   "outputs": [],
   "source": [
    "class Encoder(layers.Layer):\n",
    "    def __init__(self, intermediate_dim, latent_dim):\n",
    "        super(Encoder, self).__init__()\n",
    "        self.conv3d_1 = Convolution3D(filters=64, kernel_size=(3,3,3), kernel_initializer='he_normal', padding='same', activation='relu')\n",
    "        self.mpooling3d_1 = MaxPooling3D((1,2,2), padding=\"same\")\n",
    "        \n",
    "        self.conv3d_2 = Convolution3D(filters=128, kernel_size=(3,3,3), kernel_initializer='he_normal', padding='same', activation='relu')\n",
    "        self.mpooling3d_2 = MaxPooling3D((3,2,2), padding=\"same\")\n",
    "\n",
    "        self.f = Flatten()\n",
    "        self.d1 = Dense(units=intermediate_dim)\n",
    "        self.d2 = Dense(units=latent_dim)\n",
    "        self.d3 = Dense(units=latent_dim)\n",
    "\n",
    "    def call(self, x):\n",
    "        x = self.conv3d_1(x)\n",
    "        x = self.mpooling3d_1(x)\n",
    "        x = self.conv3d_2(x)\n",
    "        x = self.mpooling3d_2(x)\n",
    "        x = self.f(x)\n",
    "        x = self.d1(x)\n",
    "        mean = self.d2(x)\n",
    "        logvar = self.d3(x)\n",
    "        return mean, logvar\n",
    "    \n",
    "class ReparameterizationTrick(layers.Layer):\n",
    "    def __init__(self):\n",
    "        super(ReparameterizationTrick, self).__init__()\n",
    "    def call(self, mean, logvar):\n",
    "        eps = tf.random.normal(shape=mean.shape)\n",
    "        z = eps * tf.exp(logvar* .5) + mean\n",
    "        return z\n",
    "\n",
    "class Decoder(layers.Layer):\n",
    "    def __init__(self, intermediate_dim):\n",
    "        super(Decoder, self).__init__()\n",
    "        self.d1 = Dense(units=intermediate_dim, activation='relu')\n",
    "        self.d2 = Dense(units=80000, activation='relu')\n",
    "        self.r = Reshape(target_shape=(1, 25, 25, 128))\n",
    "        \n",
    "        self.upsampling_1 = UpSampling3D((3, 2, 2))\n",
    "        self.conv3dt_1   = Conv3DTranspose(128, (3,3,3), activation='relu', padding='same')\n",
    "        self.upsampling_2 = UpSampling3D((1, 2, 2))\n",
    "        self.conv3dt_2   = Conv3DTranspose(64, (3,3,3), activation='relu', padding='same')\n",
    "        self.conv3dt_3   = Conv3DTranspose(1, (3,3,3), activation='relu', padding='same')\n",
    "\n",
    "    def call(self, z):\n",
    "        x = self.d1(z)\n",
    "        x = self.d2(x)\n",
    "        x = self.r(x)\n",
    "        x = self.upsampling_1(x)\n",
    "        x = self.conv3dt_1(x)\n",
    "        x = self.upsampling_2(x)\n",
    "        x = self.conv3dt_2(x)\n",
    "        x = self.conv3dt_3(x)\n",
    "        return x\n",
    "\n",
    "class Autoencorder(Model):\n",
    "    def __init__(self, intermediate_dim, latent_dim):\n",
    "        super(Autoencorder, self).__init__()\n",
    "        self.encoder = Encoder(intermediate_dim, latent_dim)\n",
    "        self.decoder = Decoder(intermediate_dim)\n",
    "        self.reparameterizationtrick = ReparameterizationTrick()\n",
    "        \n",
    "    def call(self, x):        \n",
    "        mean, logvar = self.encoder(x)\n",
    "        z = self.reparameterizationtrick(mean, logvar)\n",
    "        reconstructed = self.decoder(z)\n",
    "        return reconstructed\n",
    "\n",
    "model = Autoencorder(500, 100)"
   ]
  },
  {
   "cell_type": "code",
   "execution_count": 27,
   "metadata": {},
   "outputs": [],
   "source": [
    "optimizer = tf.keras.optimizers.Adam(1e-5)\n",
    "train_loss = tf.keras.metrics.Mean(name='train_loss')\n",
    "test_loss = tf.keras.metrics.Mean(name='test_loss')\n",
    "\n",
    "def log_normal_pdf(sample, mean, logvar, raxis=1):\n",
    "    log2pi = tf.math.log(2. * np.pi)\n",
    "    return tf.reduce_sum(-.5 * ((sample - mean) ** 2. * tf.exp(-logvar) + logvar + log2pi), axis=raxis)\n",
    "\n",
    "def compute_loss(model, x):\n",
    "    z_mean, z_log_var = model.encoder(x)\n",
    "    z = model.reparameterizationtrick(z_mean, z_log_var)\n",
    "    x_decoded = model.decoder(z)\n",
    "    xent_loss = tf.metrics.binary_crossentropy(x, x_decoded)\n",
    "    xent_loss = tf.reduce_sum(xent_loss, axis=[1,2,3])\n",
    "    \n",
    "    kl_loss = -0.5 * tf.reduce_sum(1 + z_log_var - tf.square(z_mean) - tf.exp(z_log_var), axis=-1)\n",
    "    return tf.reduce_mean(xent_loss + kl_loss)\n",
    "\n",
    "#def compute_loss(model, x):\n",
    "#    mean, logvar = model.encoder(x)\n",
    "#    z = model.reparameterizationtrick(mean, logvar)\n",
    "#    x_logit = model.decoder(z)   \n",
    "#    cross_ent = tf.nn.sigmoid_cross_entropy_with_logits(logits=x_logit, labels=x)\n",
    "#    logpx_z = -tf.reduce_sum(cross_ent, axis=[1,2,3,4])\n",
    "#    logpz = log_normal_pdf(z, 0., 0.)\n",
    "#    logqz_x = log_normal_pdf(z, mean, logvar)\n",
    "#    return -tf.reduce_mean(logpx_z + logpz - logqz_x)"
   ]
  },
  {
   "cell_type": "code",
   "execution_count": 28,
   "metadata": {},
   "outputs": [],
   "source": [
    "@tf.function\n",
    "def train_step(image):\n",
    "     with tf.GradientTape() as tape:\n",
    "        \n",
    "        #ELBO\n",
    "        loss = compute_loss(model, image)\n",
    "\n",
    "        gradients = tape.gradient(loss, model.trainable_variables)\n",
    "        optimizer.apply_gradients(zip(gradients, model.trainable_variables))\n",
    "        train_loss(loss)\n",
    "        \n",
    "@tf.function\n",
    "def test_step(image):\n",
    "    predictions = model(image)\n",
    "    t_loss = tf.reduce_mean(tf.square(tf.subtract(predictions, image)))  \n",
    "    test_loss(t_loss)"
   ]
  },
  {
   "cell_type": "code",
   "execution_count": 29,
   "metadata": {},
   "outputs": [],
   "source": [
    "epochs = 1\n",
    "batch_size =1"
   ]
  },
  {
   "cell_type": "code",
   "execution_count": 30,
   "metadata": {},
   "outputs": [],
   "source": [
    "is_channels_first = False\n",
    "if is_channels_first:\n",
    "  buf = np.load('../Data/resnet3d_data_channel_first_updown_and_wipe_frame-3_stride123_gray_100x100_20191016.npz')\n",
    "\n",
    "else:\n",
    "  buf = np.load('../Data/resnet3d_data_channel_last_updown_and_wipe_frame-3_stride123_gray_100x100_20191016.npz')\n",
    "\n",
    "X = buf[\"X\"].astype(\"f4\")\n",
    "Y = buf[\"Y\"]\n",
    "del buf\n",
    "\n",
    "#Y = keras.utils.to_categorical(Y, 2, dtype=\"f2\").astype(\"f2\")\n",
    "X_train, X_val,  Y_train,  Y_val = train_test_split(X, Y, train_size=0.8, shuffle=False)\n",
    "#X_train, X_test, Y_train, Y_test = train_test_split(X_train, Y_train, train_size=0.4, shuffle=True)"
   ]
  },
  {
   "cell_type": "code",
   "execution_count": 31,
   "metadata": {},
   "outputs": [],
   "source": [
    "xtr = tf.data.Dataset.from_tensor_slices(X_train).batch(batch_size)\n",
    "xte = tf.data.Dataset.from_tensor_slices(X_val).batch(batch_size)"
   ]
  },
  {
   "cell_type": "code",
   "execution_count": 32,
   "metadata": {},
   "outputs": [
    {
     "data": {
      "application/vnd.jupyter.widget-view+json": {
       "model_id": "3cc8bea9eee84c14b227c4d996cf2e84",
       "version_major": 2,
       "version_minor": 0
      },
      "text/plain": [
       "HBox(children=(IntProgress(value=0, max=1), HTML(value='')))"
      ]
     },
     "metadata": {},
     "output_type": "display_data"
    },
    {
     "name": "stdout",
     "output_type": "stream",
     "text": [
      "Epoch 1, ELBO: -16904.00390625\n",
      "\n"
     ]
    }
   ],
   "source": [
    "for epoch in tqdm(range(epochs)):\n",
    "    for image in xtr:\n",
    "        train_step(image)\n",
    "\n",
    "    for test_image in xte:\n",
    "        test_step(test_image)\n",
    "\n",
    "    template = 'Epoch {}, ELBO: {}'\n",
    "    print(template.format(epoch+1, - train_loss.result(),))\n",
    "#model.save_weights('VAE-3D_latent-100_epoch-500_weights.h5')"
   ]
  },
  {
   "cell_type": "code",
   "execution_count": 33,
   "metadata": {},
   "outputs": [],
   "source": [
    "model.load_weights(\"VAE-3D_latent-100_epoch-500_weights.h5\")"
   ]
  },
  {
   "cell_type": "code",
   "execution_count": 34,
   "metadata": {},
   "outputs": [],
   "source": [
    "def PredictFromEncoder(model, input_data):\n",
    "    meanArray = np.empty(shape=(1,100))\n",
    "    varArray = np.empty(shape=(1,100))\n",
    "\n",
    "    for image in input_data:\n",
    "        buf1, buf2 = model.encoder(image)\n",
    "    \n",
    "        meanArray = np.block([[meanArray], [buf1]])\n",
    "        varArray  = np.block([[varArray] , [buf2]])\n",
    "    \n",
    "    return meanArray, varArray"
   ]
  },
  {
   "cell_type": "code",
   "execution_count": 35,
   "metadata": {},
   "outputs": [],
   "source": [
    "def Clustering(data):\n",
    "\n",
    "    # K-meansによるクラスタリング\n",
    "    kMeansModel = KMeans(n_clusters=2).fit(data)\n",
    "\n",
    "    # PCAで次元削減\n",
    "    pca = PCA(n_components=2)\n",
    "    transformedData = pca.fit_transform(data)\n",
    "\n",
    "    plt.figure()\n",
    "    label0_count = 0\n",
    "    label1_count = 0\n",
    "\n",
    "    for (i, label) in enumerate(kMeansModel.labels_):\n",
    "        if label == 0:\n",
    "            plt.scatter(transformedData[i, 0], transformedData[i, 1], c=\"red\")\n",
    "            label0_count += 1\n",
    "        elif label == 1:\n",
    "            plt.scatter(transformedData[i, 0], transformedData[i, 1], c=\"blue\")\n",
    "            label1_count += 1\n",
    "\n",
    "    print(\"label0_count = {}, label1_count = {}\".format(label0_count, label1_count))\n",
    "    plt.show()"
   ]
  },
  {
   "cell_type": "code",
   "execution_count": 36,
   "metadata": {},
   "outputs": [
    {
     "name": "stdout",
     "output_type": "stream",
     "text": [
      "label0_count = 235, label1_count = 258\n"
     ]
    },
    {
     "data": {
      "image/png": "[encoded data removed]",
      "text/plain": [
       "<Figure size 432x288 with 1 Axes>"
      ]
     },
     "metadata": {
      "needs_background": "light"
     },
     "output_type": "display_data"
    },
    {
     "name": "stdout",
     "output_type": "stream",
     "text": [
      "label0_count = 443, label1_count = 50\n"
     ]
    },
    {
     "data": {
      "image/png": "[encoded data removed]",
      "text/plain": [
       "<Figure size 432x288 with 1 Axes>"
      ]
     },
     "metadata": {
      "needs_background": "light"
     },
     "output_type": "display_data"
    }
   ],
   "source": [
    "mA1, vA1 = PredictEncoder(model, xte)\n",
    "Clustering(mA1)\n",
    "Clustering(vA1)"
   ]
  },
  {
   "cell_type": "code",
   "execution_count": 37,
   "metadata": {},
   "outputs": [
    {
     "name": "stdout",
     "output_type": "stream",
     "text": [
      "label0_count = 492, label1_count = 1\n"
     ]
    },
    {
     "data": {
      "image/png": "[encoded data removed]",
      "text/plain": [
       "<Figure size 432x288 with 1 Axes>"
      ]
     },
     "metadata": {
      "needs_background": "light"
     },
     "output_type": "display_data"
    },
    {
     "name": "stdout",
     "output_type": "stream",
     "text": [
      "label0_count = 453, label1_count = 40\n"
     ]
    },
    {
     "data": {
      "image/png": "[encoded data removed]",
      "text/plain": [
       "<Figure size 432x288 with 1 Axes>"
      ]
     },
     "metadata": {
      "needs_background": "light"
     },
     "output_type": "display_data"
    }
   ],
   "source": [
    "mA2, vA2 = PredictEncoder(model, xte)\n",
    "Clustering(mA2)\n",
    "Clustering(vA2)"
   ]
  },
  {
   "cell_type": "code",
   "execution_count": null,
   "metadata": {},
   "outputs": [],
   "source": []
  }
 ],
 "metadata": {
  "kernelspec": {
   "display_name": "Python 3",
   "language": "python",
   "name": "python3"
  },
  "language_info": {
   "codemirror_mode": {
    "name": "ipython",
    "version": 3
   },
   "file_extension": ".py",
   "mimetype": "text/x-python",
   "name": "python",
   "nbconvert_exporter": "python",
   "pygments_lexer": "ipython3",
   "version": "3.6.9"
  }
 },
 "nbformat": 4,
 "nbformat_minor": 2
}
